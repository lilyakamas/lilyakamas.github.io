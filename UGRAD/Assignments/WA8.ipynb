{
 "cells": [
  {
   "cell_type": "code",
   "execution_count": null,
   "metadata": {
    "scrolled": true
   },
   "outputs": [],
   "source": [
    "import csv\n",
    "\n",
    "def make_data_point(line, header):\n",
    "    output = {}\n",
    "    for index, header_item in enumerate(header):\n",
    "        output[header_item] = line[index]\n",
    "    return output\n",
    "\n",
    "with open(\"denver-1.nov.csv\") as inf:\n",
    "    reader = csv.reader(inf)\n",
    "    header = next(reader)\n",
    "    all_data = []\n",
    "    for line in reader:\n",
    "        all_data.append(make_data_point(line, header))\n",
    "        "
   ]
  },
  {
   "cell_type": "code",
   "execution_count": 4,
   "metadata": {},
   "outputs": [],
   "source": [
    "from collections import defaultdict\n",
    "\n",
    "# this stores a dictionary mapping each precinct to a list of data\n",
    "# from that precinct\n",
    "byprecinct = defaultdict(list)  \n",
    "for line in all_data:\n",
    "    byprecinct[line[\"precinct\"]].append(line)"
   ]
  },
  {
   "cell_type": "code",
   "execution_count": 23,
   "metadata": {},
   "outputs": [
    {
     "name": "stdout",
     "output_type": "stream",
     "text": [
      "{0: 0.0,\n",
      " '111': 15.129151291512915,\n",
      " '112': 23.952095808383234,\n",
      " '113': 9.032258064516128,\n",
      " '121': 17.889908256880734,\n",
      " '122': 20.72538860103627,\n",
      " '123': 16.883116883116884,\n",
      " '211': 25.390625,\n",
      " '212': 19.306930693069308,\n",
      " '213': 13.609467455621301,\n",
      " '221': 15.714285714285714,\n",
      " '222': 12.121212121212121,\n",
      " '223': 21.138211382113823,\n",
      " '311': 16.666666666666664,\n",
      " '312': 10.16042780748663,\n",
      " '313': 7.857142857142857,\n",
      " '314': 12.121212121212121,\n",
      " '321': 11.320754716981133,\n",
      " '322': 7.6923076923076925,\n",
      " '323': 11.904761904761903,\n",
      " '324': 5.0,\n",
      " '411': 18.43003412969283,\n",
      " '412': 15.862068965517242,\n",
      " '421': 11.158798283261802,\n",
      " '422': 8.771929824561402,\n",
      " '423': 4.678362573099415,\n",
      " '511': 9.090909090909092,\n",
      " '512': 12.173913043478262,\n",
      " '521': 12.560386473429952,\n",
      " '522': 5.47945205479452,\n",
      " '523': 9.090909090909092,\n",
      " '611': 14.748201438848922,\n",
      " '612': 24.71264367816092,\n",
      " '621': 17.793594306049823,\n",
      " '622': 19.35483870967742,\n",
      " '623': 19.047619047619047,\n",
      " '759': 0.0,\n",
      " 'None': 13.855421686746988}\n"
     ]
    }
   ],
   "source": [
    "import pprint as pprint\n",
    "\n",
    "# percentage chance to be arrested if stopped in a particular precinct\n",
    "prob_arrests = {}\n",
    "for precinct in byprecinct:\n",
    "    total = 0\n",
    "    arrests = 0\n",
    "    for report in byprecinct[precinct]:\n",
    "        if report['arrest_made'] == 'TRUE':\n",
    "            arrests += 1\n",
    "        total +=1\n",
    "    prob_arrests[precinct] = arrests / max(total, 1) * 100\n",
    "    \n",
    "pp = pprint.PrettyPrinter(width=41, compact=True)\n",
    "pp.pprint(prob_arrests)"
   ]
  },
  {
   "cell_type": "code",
   "execution_count": 24,
   "metadata": {},
   "outputs": [],
   "source": [
    "import json\n",
    "\n",
    "# saving the data to json\n",
    "with open('data.json', 'w') as outfile:\n",
    "    json.dump(prob_arrests, outfile)\n",
    "    "
   ]
  },
  {
   "cell_type": "code",
   "execution_count": null,
   "metadata": {},
   "outputs": [],
   "source": []
  }
 ],
 "metadata": {
  "kernelspec": {
   "display_name": "Python 3",
   "language": "python",
   "name": "python3"
  },
  "language_info": {
   "codemirror_mode": {
    "name": "ipython",
    "version": 3
   },
   "file_extension": ".py",
   "mimetype": "text/x-python",
   "name": "python",
   "nbconvert_exporter": "python",
   "pygments_lexer": "ipython3",
   "version": "3.7.1"
  }
 },
 "nbformat": 4,
 "nbformat_minor": 4
}
